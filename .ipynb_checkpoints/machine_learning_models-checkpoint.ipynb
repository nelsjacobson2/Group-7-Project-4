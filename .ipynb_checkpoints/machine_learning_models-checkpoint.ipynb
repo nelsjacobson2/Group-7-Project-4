{
 "cells": [
  {
   "cell_type": "markdown",
   "id": "17c8b9ad",
   "metadata": {},
   "source": [
    "## House Price Index Prediction"
   ]
  },
  {
   "cell_type": "code",
   "execution_count": null,
   "id": "47359f1f",
   "metadata": {},
   "outputs": [],
   "source": [
    "# Cell 1: Import necessary libraries and load the datasets\n",
    "import numpy as np\n",
    "import pandas as pd\n",
    "import seaborn as sns\n",
    "import matplotlib.pyplot as plt\n",
    "import os\n",
    "%matplotlib inline\n",
    "import warnings\n",
    "import tensorflow as tf\n",
    "import xgboost as xgb\n",
    "from sklearn.model_selection import train_test_split\n",
    "from sklearn.linear_model import LinearRegression\n",
    "from sklearn.metrics import mean_squared_error, r2_score\n",
    "\n",
    "# Set up visualization settings\n",
    "warnings.filterwarnings(\"ignore\")\n",
    "sns.set(style=\"darkgrid\", font_scale=1.5)\n",
    "pd.set_option(\"display.max.columns\", None)\n",
    "\n",
    "# Load the datasets\n",
    "current_dir = os.getcwd()\n",
    "data_dir = \"Group-7-Project-4/Data\"\n",
    "train_csv_path = os.path.join(current_dir, data_dir, \"train.csv\")\n",
    "test_csv_path = os.path.join(current_dir, data_dir, \"test.csv\")\n",
    "\n",
    "df_train = pd.read_csv(train_csv_path)\n",
    "df_test = pd.read_csv(test_csv_path)\n"
   ]
  },
  {
   "cell_type": "markdown",
   "id": "c144f2f3",
   "metadata": {},
   "source": [
    "## Data Cleaning and Handling Missing Values"
   ]
  },
  {
   "cell_type": "code",
   "execution_count": null,
   "id": "fec1106d",
   "metadata": {},
   "outputs": [],
   "source": [
    "# Data Cleaning and Handling Missing Values\n",
    "test_id = df_test[\"Id\"]\n",
    "df_train.drop(columns=\"Id\", inplace=True)\n",
    "df_test.drop(columns=\"Id\", inplace=True)\n",
    "\n",
    "# Check for missing values and drop columns with more than 45% missing values\n",
    "cols_to_drop = [\"FireplaceQu\", \"Fence\", \"Alley\", \"MiscFeature\", \"PoolQC\"]\n",
    "df_train.drop(columns=cols_to_drop, inplace=True)\n",
    "df_test.drop(columns=cols_to_drop, inplace=True)\n",
    "\n",
    "# Separate the target variable \"SalePrice\" from the train dataset\n",
    "target = df_train[[\"SalePrice\"]].reset_index(drop=True)\n",
    "df_train.drop(columns=[\"SalePrice\"], inplace=True)\n",
    "\n",
    "# Concatenate the train and test datasets for data cleanup and analysis\n",
    "df = pd.concat([df_train, df_test]).reset_index(drop=True)\n",
    "\n",
    "# Handling Missing Values for Garage-related Features\n",
    "garage_cols = [\"GarageYrBlt\", \"GarageArea\", \"GarageCars\", \"GarageType\", \"GarageFinish\", \"GarageQual\", \"GarageCond\"]\n",
    "for col in garage_cols:\n",
    "    if df[col].dtype == \"object\":\n",
    "        df[col].fillna(\"None\", inplace=True)\n",
    "    else:\n",
    "        df[col].fillna(0, inplace=True)\n",
    "\n",
    "# Handling Missing Values for Basement-related Features\n",
    "basement_cols = [\"BsmtQual\", \"BsmtCond\", \"BsmtExposure\", \"BsmtFinType1\", \"BsmtFinType2\"]\n",
    "for col in basement_cols:\n",
    "    df[col].fillna(\"None\", inplace=True)\n",
    "\n",
    "# Handling Missing Values for Other Categorical Features\n",
    "df['MSZoning'] = df.groupby('MSSubClass')['MSZoning'].transform(lambda x: x.fillna(x.mode()[0]))\n",
    "cat_cols = ['Utilities', 'Exterior1st', 'Exterior2nd', 'MasVnrType', 'Electrical', 'KitchenQual', 'Functional', 'SaleType']\n",
    "for col in cat_cols:\n",
    "    df[col].fillna(df[col].mode()[0], inplace=True)\n",
    "\n",
    "# Handling Missing Values for LotFrontage\n",
    "df[\"LotFrontage\"] = df.groupby('Neighborhood')['LotFrontage'].transform(lambda x: x.fillna(x.median()))\n",
    "\n",
    "# Handling Missing Values for MasVnrArea, BsmtFinSF1, and BsmtFinSF2\n",
    "df[\"MasVnrArea\"] = df.groupby(\"MasVnrType\")[\"MasVnrArea\"].transform(lambda x: x.fillna(x.median()))\n",
    "df[\"BsmtFinSF1\"] = df.groupby(\"BsmtFinType1\")[\"BsmtFinSF1\"].transform(lambda x: x.fillna(x.median()))\n",
    "df[\"BsmtFinSF2\"] = df.groupby(\"BsmtFinType2\")[\"BsmtFinSF2\"].transform(lambda x: x.fillna(x.median()))\n",
    "\n",
    "# Handling Missing Values for BsmtFullBath and BsmtHalfBath\n",
    "df[\"BsmtFullBath\"].fillna(0, inplace=True)\n",
    "df[\"BsmtHalfBath\"].fillna(0, inplace=True)\n",
    "\n",
    "# Creating a new feature 'TotalBsmtSF'\n",
    "df[\"TotalBsmtSF\"] = df[\"BsmtFinSF1\"] + df[\"BsmtFinSF2\"]\n",
    "\n",
    "# Handling Missing Values for BsmtUnfSF\n",
    "df[\"BsmtUnfSF\"].fillna(df[\"BsmtUnfSF\"].median(), inplace=True)\n",
    "\n",
    "# Check if there are any missing values left\n",
    "print(\"Total Missing Values Left is:\", df.isnull().sum().sum())\n",
    "\n",
    "# Separate the train and test datasets after data cleanup\n",
    "df_train_cleaned = df.iloc[:len(df_train)].copy()\n",
    "df_test_cleaned = df.iloc[len(df_train):].copy()\n"
   ]
  },
  {
   "cell_type": "markdown",
   "id": "4f635329",
   "metadata": {},
   "source": [
    "## Data Analysis and Visualization"
   ]
  },
  {
   "cell_type": "code",
   "execution_count": null,
   "id": "5773a168",
   "metadata": {},
   "outputs": [],
   "source": [
    "# Visualize the distribution of the target variable \"SalePrice\"\n",
    "plt.figure(figsize=(10, 6))\n",
    "sns.histplot(target[\"SalePrice\"], kde=True, color=\"blue\")\n",
    "plt.title(\"Distribution of SalePrice\")\n",
    "plt.xlabel(\"SalePrice\")\n",
    "plt.ylabel(\"Frequency\")\n",
    "plt.show()\n"
   ]
  },
  {
   "cell_type": "code",
   "execution_count": null,
   "id": "1c171827",
   "metadata": {},
   "outputs": [],
   "source": [
    "# Check the skewness of the target variable \"SalePrice\"\n",
    "print(\"Skewness of SalePrice:\", target[\"SalePrice\"].skew())\n",
    "\n",
    "# Log-transform the target variable \"SalePrice\" to reduce skewness\n",
    "target[\"SalePrice\"] = np.log1p(target[\"SalePrice\"])\n",
    "\n",
    "# Check the skewness of the log-transformed target variable \"SalePrice\"\n",
    "print(\"Skewness of log-transformed SalePrice:\", target[\"SalePrice\"].skew())\n"
   ]
  },
  {
   "cell_type": "code",
   "execution_count": null,
   "id": "28fcad2f",
   "metadata": {},
   "outputs": [],
   "source": [
    "# Visualize the relationship between the overall quality ('OverallQual') and the sale price\n",
    "plt.figure(figsize=(10, 6))\n",
    "sns.boxplot(x=df_train_cleaned[\"OverallQual\"], y=target[\"SalePrice\"])\n",
    "plt.title(\"OverallQual vs. SalePrice\")\n",
    "plt.show()\n"
   ]
  },
  {
   "cell_type": "code",
   "execution_count": null,
   "id": "2efdb3e2",
   "metadata": {},
   "outputs": [],
   "source": [
    "# Visualize the relationship between the above-ground living area square feet ('GrLivArea') and the sale price\n",
    "plt.figure(figsize=(10, 6))\n",
    "sns.scatterplot(x=df_train_cleaned[\"GrLivArea\"], y=target[\"SalePrice\"])\n",
    "plt.title(\"GrLivArea vs. SalePrice\")\n",
    "plt.show()\n"
   ]
  },
  {
   "cell_type": "code",
   "execution_count": null,
   "id": "401556d9",
   "metadata": {},
   "outputs": [],
   "source": [
    "# Visualize the relationship between the total rooms above ground ('TotRmsAbvGrd') and the sale price\n",
    "plt.figure(figsize=(10, 6))\n",
    "sns.boxplot(x=df_train_cleaned[\"TotRmsAbvGrd\"], y=target[\"SalePrice\"])\n",
    "plt.title(\"TotRmsAbvGrd vs. SalePrice\")\n",
    "plt.show()\n"
   ]
  },
  {
   "cell_type": "code",
   "execution_count": null,
   "id": "606b5845",
   "metadata": {},
   "outputs": [],
   "source": [
    "# Visualize the relationship between the garage area ('GarageArea') and the sale price\n",
    "plt.figure(figsize=(10, 6))\n",
    "sns.scatterplot(x=df_train_cleaned[\"GarageArea\"], y=target[\"SalePrice\"])\n",
    "plt.title(\"GarageArea vs. SalePrice\")\n",
    "plt.show()\n"
   ]
  },
  {
   "cell_type": "code",
   "execution_count": null,
   "id": "efe48ae8",
   "metadata": {},
   "outputs": [],
   "source": [
    "# Visualize the relationship between the year built ('YearBuilt') and the sale price\n",
    "plt.figure(figsize=(14, 6))\n",
    "sns.boxplot(x=df_train_cleaned[\"YearBuilt\"], y=target[\"SalePrice\"])\n",
    "plt.xticks(rotation=90)\n",
    "plt.title(\"YearBuilt vs. SalePrice\")\n",
    "plt.show()\n"
   ]
  },
  {
   "cell_type": "code",
   "execution_count": null,
   "id": "153a2182",
   "metadata": {},
   "outputs": [],
   "source": [
    "# Visualize the relationship between the neighborhood ('Neighborhood') and the sale price\n",
    "plt.figure(figsize=(14, 6))\n",
    "sns.boxplot(x=df_train_cleaned[\"Neighborhood\"], y=target[\"SalePrice\"])\n",
    "plt.xticks(rotation=90)\n",
    "plt.title(\"Neighborhood vs. SalePrice\")\n",
    "plt.show()\n"
   ]
  },
  {
   "cell_type": "code",
   "execution_count": null,
   "id": "fd98e90a",
   "metadata": {},
   "outputs": [],
   "source": [
    "# Calculate the correlation matrix\n",
    "correlation_matrix = df_train_cleaned.corr()\n",
    "\n",
    "# Visualize the correlation matrix as a heatmap\n",
    "plt.figure(figsize=(12, 10))\n",
    "sns.heatmap(correlation_matrix, cmap=\"coolwarm\", annot=True, fmt=\".2f\", linewidths=0.5)\n",
    "plt.title(\"Correlation Matrix\")\n",
    "plt.show()\n"
   ]
  },
  {
   "cell_type": "markdown",
   "id": "1de7a127",
   "metadata": {},
   "source": [
    "## Train and Evaluate the Scikit-learn Linear Regression Model"
   ]
  },
  {
   "cell_type": "code",
   "execution_count": null,
   "id": "64b15e8d",
   "metadata": {},
   "outputs": [],
   "source": [
    "# Assuming 'df_train_cleaned' is the cleaned train dataset and 'target' is the target variable\n",
    "# Separate the features and target variable\n",
    "X = df_train_cleaned.copy()  # No need to drop the target variable from the features\n",
    "y = target[\"SalePrice\"]\n",
    "\n",
    "# Perform one-hot encoding on categorical columns\n",
    "X = pd.get_dummies(X, drop_first=True)  # Use drop_first=True to avoid multicollinearity\n",
    "\n",
    "# Split the dataset into training and testing sets (80% train, 20% test)\n",
    "X_train, X_test, y_train, y_test = train_test_split(X, y, test_size=0.2, random_state=42)\n",
    "\n",
    "# Create and train the Scikit-learn Linear Regression model\n",
    "model = LinearRegression()\n",
    "model.fit(X_train, y_train)\n",
    "y_pred = model.predict(X_test)\n",
    "\n",
    "# Evaluate the Scikit-learn Linear Regression model\n",
    "mse = mean_squared_error(y_test, y_pred)\n",
    "r_squared = r2_score(y_test, y_pred)\n",
    "print(\"Scikit-learn Linear Regression Model - Mean Squared Error:\", mse)\n",
    "print(\"Scikit-learn Linear Regression Model - R-squared:\", r_squared)\n"
   ]
  },
  {
   "cell_type": "markdown",
   "id": "2438024e",
   "metadata": {},
   "source": [
    "## Train and Evaluate the TensorFlow Model"
   ]
  },
  {
   "cell_type": "code",
   "execution_count": null,
   "id": "90e3bd86",
   "metadata": {},
   "outputs": [],
   "source": [
    "# Create the TensorFlow model\n",
    "tf_model = tf.keras.Sequential([\n",
    "    tf.keras.layers.Dense(128, activation='relu', input_shape=(X_train.shape[1],)),\n",
    "    tf.keras.layers.Dense(64, activation='relu'),\n",
    "    tf.keras.layers.Dense(1)  # Output layer with no activation function for regression\n",
    "])\n",
    "# Compile the model\n",
    "tf_model.compile(optimizer='adam', loss='mean_squared_error')\n",
    "\n",
    "# Train the TensorFlow model\n",
    "tf_model.fit(X_train, y_train, epochs=100, batch_size=32, validation_split=0.2)\n",
    "\n",
    "# Evaluate the TensorFlow model\n",
    "tf_y_pred = tf_model.predict(X_test)\n",
    "tf_mse = mean_squared_error(y_test, tf_y_pred)\n",
    "tf_r_squared = r2_score(y_test, tf_y_pred)\n",
    "print(\"TensorFlow Model - Mean Squared Error:\", tf_mse)\n",
    "print(\"TensorFlow Model - R-squared:\", tf_r_squared)\n"
   ]
  },
  {
   "cell_type": "markdown",
   "id": "113c8fdd",
   "metadata": {},
   "source": [
    "## Train and Evaluate the Keras Model"
   ]
  },
  {
   "cell_type": "code",
   "execution_count": null,
   "id": "72d47590",
   "metadata": {},
   "outputs": [],
   "source": [
    "# Create the Keras model (same architecture as TensorFlow model)\n",
    "keras_model = tf.keras.Sequential([\n",
    "    tf.keras.layers.Dense(128, activation='relu', input_shape=(X_train.shape[1],)),\n",
    "    tf.keras.layers.Dense(64, activation='relu'),\n",
    "    tf.keras.layers.Dense(1)  # Output layer with no activation function for regression\n",
    "])\n",
    "# Compile the model\n",
    "keras_model.compile(optimizer='adam', loss='mean_squared_error')\n",
    "\n",
    "# Train the Keras model\n",
    "keras_model.fit(X_train, y_train, epochs=100, batch_size=32, validation_split=0.2)\n",
    "\n",
    "# Evaluate the Keras model\n",
    "keras_y_pred = keras_model.predict(X_test)\n",
    "keras_mse = mean_squared_error(y_test, keras_y_pred)\n",
    "keras_r_squared = r2_score(y_test, keras_y_pred)\n",
    "print(\"Keras Model - Mean Squared Error:\", keras_mse)\n",
    "print(\"Keras Model - R-squared:\", keras_r_squared)\n"
   ]
  },
  {
   "cell_type": "markdown",
   "id": "ea78f259",
   "metadata": {},
   "source": [
    "## Train and Evaluate the XGBoost Model"
   ]
  },
  {
   "cell_type": "code",
   "execution_count": null,
   "id": "4b14560e",
   "metadata": {},
   "outputs": [],
   "source": [
    "# Create and train the XGBoost model\n",
    "xgb_model = xgb.XGBRegressor()\n",
    "xgb_model.fit(X_train, y_train)\n",
    "\n",
    "# Make predictions on the test set\n",
    "xgb_y_pred = xgb_model.predict(X_test)\n",
    "xgb_mse = mean_squared_error(y_test, xgb_y_pred)\n",
    "xgb_r_squared = r2_score(y_test, xgb_y_pred)\n",
    "print(\"XGBoost Model - Mean Squared Error:\", xgb_mse)\n",
    "print(\"XGBoost Model - R-squared:\", xgb_r_squared)\n"
   ]
  },
  {
   "cell_type": "markdown",
   "id": "6dd9d5a3",
   "metadata": {},
   "source": [
    "## Compare model performances"
   ]
  },
  {
   "cell_type": "code",
   "execution_count": null,
   "id": "2ea207db",
   "metadata": {},
   "outputs": [],
   "source": [
    "# Compare model performances\n",
    "print(\"Scikit-learn Linear Regression Model - Mean Squared Error:\", mse)\n",
    "print(\"Scikit-learn Linear Regression Model - R-squared:\", r_squared)\n",
    "\n",
    "print(\"TensorFlow Model - Mean Squared Error:\", tf_mse)\n",
    "print(\"TensorFlow Model - R-squared:\", tf_r_squared)\n",
    "\n",
    "print(\"Keras Model - Mean Squared Error:\", keras_mse)\n",
    "print(\"Keras Model - R-squared:\", keras_r_squared)\n",
    "\n",
    "print(\"XGBoost Model - Mean Squared Error:\", xgb_mse)\n",
    "print(\"XGBoost Model - R-squared:\", xgb_r_squared)\n"
   ]
  }
 ],
 "metadata": {
  "kernelspec": {
   "display_name": "Python 3 (ipykernel)",
   "language": "python",
   "name": "python3"
  },
  "language_info": {
   "codemirror_mode": {
    "name": "ipython",
    "version": 3
   },
   "file_extension": ".py",
   "mimetype": "text/x-python",
   "name": "python",
   "nbconvert_exporter": "python",
   "pygments_lexer": "ipython3",
   "version": "3.9.13"
  }
 },
 "nbformat": 4,
 "nbformat_minor": 5
}
